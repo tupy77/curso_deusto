{
  "nbformat": 4,
  "nbformat_minor": 0,
  "metadata": {
    "colab": {
      "name": "Autoevaluación Modulo 4.ipynb",
      "provenance": [],
      "collapsed_sections": [
        "G6iyDWJLACqa"
      ],
      "include_colab_link": true
    },
    "kernelspec": {
      "name": "python3",
      "display_name": "Python 3"
    },
    "language_info": {
      "name": "python"
    }
  },
  "cells": [
    {
      "cell_type": "markdown",
      "metadata": {
        "id": "view-in-github",
        "colab_type": "text"
      },
      "source": [
        "<a href=\"https://colab.research.google.com/github/tupy77/curso_deusto/blob/master/Autoevaluaci%C3%B3n_Modulo_4.ipynb\" target=\"_parent\"><img src=\"https://colab.research.google.com/assets/colab-badge.svg\" alt=\"Open In Colab\"/></a>"
      ]
    },
    {
      "cell_type": "markdown",
      "metadata": {
        "id": "0KV5i2MdpcPO"
      },
      "source": [
        "# Ejercicio 1\n",
        "Vamos a realizar una fiesta privada en un museo, y vamos a colocar un programa que contenga una clave secreta, almacenada en una variable llamada password.\n",
        "\n",
        " Vamos a ser tolerantes con las mayusculas y minúsculas.\n",
        "\n",
        "El usuario tendrá que teclear la contraseña por teclado, si no coincide mostrará un mensaje, advirtiendo al usuario que no puede entrar, en caso contrario le daremos la bienvenida al museo.\n",
        "\n",
        "Si el usuario puede entrar solicitaremos la edad del usuario y comprobaremos si tieme más de 16 años.\n",
        "\n",
        "No olvides dar las gracias al usuario siempre."
      ]
    },
    {
      "cell_type": "code",
      "metadata": {
        "id": "760DXZx1wNlX"
      },
      "source": [
        ""
      ],
      "execution_count": null,
      "outputs": []
    },
    {
      "cell_type": "markdown",
      "metadata": {
        "id": "RB-91Cz_w5ws"
      },
      "source": [
        "## Solución Ejercicio 1"
      ]
    },
    {
      "cell_type": "code",
      "metadata": {
        "colab": {
          "base_uri": "https://localhost:8080/"
        },
        "id": "fmhLrvvqt8a3",
        "outputId": "82a13ff9-772d-4a05-a334-114c60c807d6"
      },
      "source": [
        "password = \"clave_secreta\"\n",
        "\n",
        "teclado = input(\"Teclea la contraseña: \")\n",
        "\n",
        "if password == teclado.lower():\n",
        "    print(\"Bienvenido al museo, disfruta de la fiesta\")\n",
        "    edad = int(input(\"¿Cuantos años tienes? \"))\n",
        "    if edad > 16:\n",
        "        print(\"Tiene más de 16 años\")        \n",
        "else:\n",
        "    print(\"ERROR, no puedes entrar al museo\")\n",
        "print(\"Gracias, por su colaboración\")"
      ],
      "execution_count": null,
      "outputs": [
        {
          "output_type": "stream",
          "text": [
            "Teclea la contraseña: clave_secreta\n",
            "Bienvenido al museo, disfruta de la fiesta\n",
            "¿Cuantos años tienes? 65\n",
            "Tiene más de 16 años\n",
            "Gracias, por su colaboración\n"
          ],
          "name": "stdout"
        }
      ]
    },
    {
      "cell_type": "markdown",
      "metadata": {
        "id": "p1HRPwZ9zJBy"
      },
      "source": [
        "# Ejercicio 2\n",
        "En una empresa quieren implantar un seguro privado, y va a aplicar un descuento relativo al tiempo que estan contratados con un contrato indefinido, si tienen cualquier otro tipo de contrato no obtendrán descuento.\n",
        "\n",
        "El descuento aplicable es un 5% por año trabajado hasta obtener un máximo del 50%. Pero si llevan más de 19 años y tiene más de 2 hijos se le aplica un 70%, si tiene menos hijos se queda con el 50%.\n",
        "\n",
        "Quieren realizar un programa para que puedan comprobar que tipo de descuento se les puede aplicar.\n",
        "\n",
        "Avisa en todos los casos por pantalla."
      ]
    },
    {
      "cell_type": "code",
      "metadata": {
        "id": "5QfETefp10hn"
      },
      "source": [
        ""
      ],
      "execution_count": null,
      "outputs": []
    },
    {
      "cell_type": "markdown",
      "metadata": {
        "id": "nwx1LUNt14F-"
      },
      "source": [
        "## Solución Ejercicio 2"
      ]
    },
    {
      "cell_type": "code",
      "metadata": {
        "colab": {
          "base_uri": "https://localhost:8080/"
        },
        "id": "3qXDAtuE2BPv",
        "outputId": "635b74b4-b440-42b5-df00-5ea8eb38cead"
      },
      "source": [
        "respuesta = input(\"¿Tienes un contrato indefinido? Responde S o N \")\n",
        "\n",
        "if(respuesta == 'S'):\n",
        "    años = int(input(\"¿Cuantos años de antiguedad tienes en la empresa con contrato indefinido?\"))\n",
        "    hijos = int(input(\"¿Cuantos hijos tienes?\"))\n",
        "    descuento = 5 * años # 5 és el porcentaje de descuento\n",
        "\n",
        "    if(hijos > 1 and años > 19):\n",
        "        print(\"Su descuento es del 70%\")\n",
        "    elif(descuento  > 50):\n",
        "        print(\"Su descuento es del 50%\")\n",
        "    else:\n",
        "        print(\"Su descuento es del {}%\".format(descuento))\n",
        "elif(respuesta == 'N'):\n",
        "    print(\"No dispone de ningún descuento, lo sentimos\")\n",
        "else:\n",
        "    print(\"Respuesta no compatible con este programa\")"
      ],
      "execution_count": null,
      "outputs": [
        {
          "output_type": "stream",
          "text": [
            "¿Tienes un contrato indefinido? Responde S o N S\n",
            "¿Cuantos años de antiguedad tienes en la empresa con contrato indefinido?12\n",
            "¿Cuantos hijos tienes?5\n",
            "Su descuento es del 50%\n"
          ],
          "name": "stdout"
        }
      ]
    },
    {
      "cell_type": "markdown",
      "metadata": {
        "id": "4-aciyTc6GLb"
      },
      "source": [
        "# Ejercicio 3\n",
        "Escribir un menú infinito para acceder a casa.\n",
        "\n",
        "Inicialmente por defecto\n",
        "\n",
        "```\n",
        "contraseña = \"12345\"\n",
        "```\n",
        "\n",
        "El menú debe tener 3 opciones:\n",
        "\n",
        "1.Modificar contraseña\n",
        "\n",
        "  Para modificar la contraseña, debe solicitar comprobar la anterior contraseña, y solicitar la nueva dos veces para validar que coinciden.\n",
        "\n",
        "2.Parar menú\n",
        "\n",
        "Para desactivar el menú infinito, debe solicitar la contraseña y si es valida salir del bucle.\n",
        "\n",
        "3.Entrar en casa\n",
        "\n",
        "Solicitar la contraseña, mostrar por pantalla (Puedes pasar)\n",
        "\n",
        "Recomendamos utilizar la función switch() que hemos visto en el módulo. Y cada punto del menú que sea una función.\n",
        "\n",
        "Ejemplo función switch\n",
        "\n",
        "\n",
        "\n",
        "```\n",
        "def switch(opcion):\n",
        "    diccionario = {\n",
        "    \"1\": \"uno()\",\n",
        "    \"2\": \"dos()\",\n",
        "    \"3\": \"tres()\"\n",
        "    }\n",
        "    return eval(diccionario.get(opcion))\n",
        "```\n",
        "\n",
        "\n"
      ]
    },
    {
      "cell_type": "code",
      "metadata": {
        "id": "iRG8DQ7h8WIr"
      },
      "source": [
        ""
      ],
      "execution_count": null,
      "outputs": []
    },
    {
      "cell_type": "markdown",
      "metadata": {
        "id": "G9YXb-qh8YRr"
      },
      "source": [
        "##Solución Ejercicio 3"
      ]
    },
    {
      "cell_type": "code",
      "metadata": {
        "colab": {
          "base_uri": "https://localhost:8080/"
        },
        "id": "tZKXDQuf8ZxY",
        "outputId": "0f795fe4-52ed-4db3-895b-517f6f2a6571"
      },
      "source": [
        "contraseña = \"12345\"\n",
        "\n",
        "def uno():\n",
        "    global contraseña\n",
        "    validar_contraseña = input(\"Para modificar la contraseña, teclee la contraseña anterior\")\n",
        "    if(validar_contraseña == contraseña):\n",
        "            contraseña_nueva = input(\"Escribe la nueva contraseña\")\n",
        "            contraseña_nueva2 = input(\"Escribe otra vez la nueva contraseña\")\n",
        "            if(contraseña_nueva == contraseña_nueva2):\n",
        "                contraseña = contraseña_nueva\n",
        "                print(\"Contraseña cambiada correctamente\")\n",
        "            else:\n",
        "                print(\"Las contraseñas no coinciden, vuelve a intentarlo\")\n",
        "    else:\n",
        "            print(\"La contraseña no es correcta, vuelva a intentarlo\")\n",
        "    return True\n",
        "\n",
        "def dos():\n",
        "    global contraseña\n",
        "    validar_contraseña = input(\"Escriba la contraseña: \")\n",
        "    if(validar_contraseña == contraseña):\n",
        "        return False\n",
        "    else:\n",
        "        print(\"La contraseña no es correcta, vuelva a intentarlo\")\n",
        "    return True\n",
        "\n",
        "def tres():\n",
        "    global contraseña\n",
        "    validar_contraseña = input(\"Escriba la contraseña: \")\n",
        "    if(validar_contraseña == contraseña):\n",
        "        print(\"Puede entrar en casa ;)\")\n",
        "    else:\n",
        "        print(\"La contraseña no es correcta, vuelva a intentarlo\")\n",
        "    return True\n",
        "\n",
        "def switch(opcion):\n",
        "    diccionario = {\n",
        "    \"1\": \"uno()\",\n",
        "    \"2\": \"dos()\",\n",
        "    \"3\": \"tres()\"\n",
        "    }\n",
        "    return eval(diccionario.get(opcion))\n",
        "\n",
        "\n",
        "while(True):\n",
        "    print(\"\"\"Selecciona una opción:\n",
        "    1) Modificar contraseña\n",
        "    2) Parar menú\n",
        "    3) Entrar en casa\"\"\")\n",
        "    opcion = input()\n",
        "    continuar = switch(opcion)\n",
        "    if(continuar == False):\n",
        "      print(\"Finaliza el programa ;)\")\n",
        "      break\n",
        "            "
      ],
      "execution_count": null,
      "outputs": [
        {
          "output_type": "stream",
          "text": [
            "Selecciona una opción:\n",
            "    1) Modificar contraseña\n",
            "    2) Parar menú\n",
            "    3) Entrar en casa\n"
          ],
          "name": "stdout"
        }
      ]
    },
    {
      "cell_type": "markdown",
      "metadata": {
        "id": "vYLOBUSR9vFY"
      },
      "source": [
        "# Ejercicio 4 \n",
        "Necesitamos una Agenda para almacenar los nombre y los teléfonos de las personas.\n",
        "\n",
        "Necesitamos un menú infinito para añadir, borrar y visualizar todo.\n",
        "\n",
        "Se puede borrar por nombre o por teléfono previa elección.\n",
        "\n",
        "Debe utilizarse un diccionario.\n",
        "\n",
        "No podrá haber usuarios repetidos.\n",
        "\n",
        "Añade un control con try-except para mostrar un error en pantalla si seleccionan una opción no existente.\n",
        "\n",
        "En el apartado de visualizar debe mostrar al final cantidad de contactos."
      ]
    },
    {
      "cell_type": "code",
      "metadata": {
        "id": "T8KKYcF7ACDI"
      },
      "source": [
        ""
      ],
      "execution_count": null,
      "outputs": []
    },
    {
      "cell_type": "markdown",
      "metadata": {
        "id": "G6iyDWJLACqa"
      },
      "source": [
        "##Solución Ejercicio 4"
      ]
    },
    {
      "cell_type": "code",
      "metadata": {
        "id": "bXLkNZr6AD1o",
        "colab": {
          "base_uri": "https://localhost:8080/"
        },
        "outputId": "32bb9a87-a129-4acc-83f7-bc9ff27c1666"
      },
      "source": [
        "agenda = {}\n",
        "\n",
        "def añadir():\n",
        "    global agenda\n",
        "    Nombre = input(\"Añade un nombre para el contacto: \")\n",
        "    if(agenda.get(Nombre) != None):\n",
        "        print(\"El nombre ya existe, se modifica el teléfono.\")    \n",
        "    Teléfono = input(\"Añade el teléfono del contacto: \")\n",
        "    agenda[Nombre] = Teléfono\n",
        "    return True\n",
        "\n",
        "def borrar():\n",
        "    global agenda\n",
        "    esNombre = input(\"¿Desea borrar por nombre o por teléfono? N o T: \")\n",
        "    if(esNombre == \"N\"):\n",
        "        para_borrar = input(\"¿Qué nombre deseas borrar? \")\n",
        "        if(agenda.get(para_borrar) != None):\n",
        "            print(\"Se ha borrado el usuario ->\", para_borrar,\"-\",agenda.pop(para_borrar))\n",
        "        else:\n",
        "            print(\"El usuario no existe\")\n",
        "    elif(esNombre == \"T\"):\n",
        "            para_borrar = input(\"¿Qué teléfono deseas borrar? \")\n",
        "          \n",
        "            if(para_borrar in agenda.values()):\n",
        "                key = next((k for k in agenda if agenda[k] == para_borrar), None)\n",
        "                print(\"Se ha borrado el usuario ->\", key,\"-\",agenda.pop(key))\n",
        "    else:\n",
        "            print(\"Función desconocida, vuelva a intentarlo\")\n",
        "    return True\n",
        "\n",
        "def visualizar():\n",
        "    global agenda\n",
        "    i = 0\n",
        "    for clave,valor in agenda.items():\n",
        "         print(\"Contacto: \",clave,\"--> Telefono:\", valor)\n",
        "         i+=1\n",
        "    \n",
        "    print(\"{} Contactos en la agenda\".format(i))\n",
        "    return True\n",
        "\n",
        "def switch(opcion):\n",
        "    diccionario = {\n",
        "    \"1\": \"añadir()\",\n",
        "    \"2\": \"borrar()\",\n",
        "    \"3\": \"visualizar()\"\n",
        "    }\n",
        "    return eval(diccionario.get(opcion))\n",
        "\n",
        "while(True):\n",
        "    print(\"\"\"Selecciona una opción:\n",
        "    1) Añadir\n",
        "    2) Borrar\n",
        "    3) Visualizar\"\"\")\n",
        "    opcion = input()\n",
        "    try:\n",
        "      continuar = switch(opcion)\n",
        "    except Exception as a:\n",
        "      print(\"Seleccione una opción válida\")#Gestionar más concretamente\n",
        "    "
      ],
      "execution_count": null,
      "outputs": [
        {
          "output_type": "stream",
          "text": [
            "Selecciona una opción:\n",
            "    1) Añadir\n",
            "    2) Borrar\n",
            "    3) Visualizar\n"
          ],
          "name": "stdout"
        }
      ]
    }
  ]
}