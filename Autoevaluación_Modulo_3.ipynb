{
  "nbformat": 4,
  "nbformat_minor": 0,
  "metadata": {
    "colab": {
      "name": "Autoevaluación Modulo 3.ipynb",
      "provenance": [],
      "collapsed_sections": [
        "RB-91Cz_w5ws",
        "G9YXb-qh8YRr",
        "G6iyDWJLACqa"
      ],
      "toc_visible": true,
      "include_colab_link": true
    },
    "kernelspec": {
      "name": "python3",
      "display_name": "Python 3"
    },
    "language_info": {
      "name": "python"
    }
  },
  "cells": [
    {
      "cell_type": "markdown",
      "metadata": {
        "id": "view-in-github",
        "colab_type": "text"
      },
      "source": [
        "<a href=\"https://colab.research.google.com/github/tupy77/curso_deusto/blob/master/Autoevaluaci%C3%B3n_Modulo_3.ipynb\" target=\"_parent\"><img src=\"https://colab.research.google.com/assets/colab-badge.svg\" alt=\"Open In Colab\"/></a>"
      ]
    },
    {
      "cell_type": "markdown",
      "metadata": {
        "id": "0KV5i2MdpcPO"
      },
      "source": [
        "# Ejercicio 1\n",
        "Explica de estos códigos el resultado por pantalla.\n",
        "\n",
        "\n",
        "```\n",
        "#Código 1\n",
        " a = 1+2\n",
        " b = 2\n",
        " c = 3\n",
        " a = b\n",
        " c = a\n",
        " b = c\n",
        " print(a,b,c)\n",
        "```\n",
        "Salida\n",
        "\n",
        "```\n",
        "2 2 2\n",
        "```\n",
        "\n",
        "```\n",
        "#Código 2\n",
        "x+3 = 2\n",
        "print(x)\n",
        "```\n",
        "Salida\n",
        "\n",
        "```\n",
        " File \"<ipython-input-3-3f952ef88f4f>\", line 1\n",
        "    x+3 = 2\n",
        "           ^\n",
        "SyntaxError: can't assign to operator\n",
        "```\n",
        "\n",
        "Escribe los valores de la variable c en a, los de a en b y los de c en b sin perder ningun dato.\n",
        "\n",
        "Valores:\n",
        "\n",
        "  a = 15\n",
        "  b = 17 \n",
        "  c = 20  \n",
        "  Resultado --> a = 20 b = 15 c = 17"
      ]
    },
    {
      "cell_type": "markdown",
      "metadata": {
        "id": "3mqMxop3xEmh"
      },
      "source": [
        "Escribe aquí la solución de la primera parte del ejercicio."
      ]
    },
    {
      "cell_type": "code",
      "metadata": {
        "id": "760DXZx1wNlX"
      },
      "source": [
        ""
      ],
      "execution_count": null,
      "outputs": []
    },
    {
      "cell_type": "markdown",
      "metadata": {
        "id": "RB-91Cz_w5ws"
      },
      "source": [
        "## Solución Ejercicio 1"
      ]
    },
    {
      "cell_type": "markdown",
      "metadata": {
        "id": "Ro-K5P_qw_N7"
      },
      "source": [
        "En el código 1 el resultado es en todas las variables el mismo, porque al realizar la primera asignación de la variable a = b, la variable \"a\" ya tiene asignado el valor 2, y por tanto como después se asigna también el valor a \"c\" esta también es asignada con este valor, y la variable b después es asignada por c, que de igual forma hace que mantenga el valor 2.\n",
        "\n",
        "En el código 2, tenemos un error en la salida, ya que en el lado izquierdo de una asignación no pueden aparecer operadores."
      ]
    },
    {
      "cell_type": "code",
      "metadata": {
        "colab": {
          "base_uri": "https://localhost:8080/"
        },
        "id": "fmhLrvvqt8a3",
        "outputId": "b88682b0-18e1-426e-c16c-9ae7fba2a56a"
      },
      "source": [
        "a,b,c = 15,17,20\n",
        "print(a,b,c)\n",
        "\n",
        "#creamos una variable temporal para almacenar el valor de a\n",
        "temp_a = a\n",
        "a = c\n",
        "c = b\n",
        "b = temp_a\n",
        "\n",
        "print(a,b,c)"
      ],
      "execution_count": null,
      "outputs": [
        {
          "output_type": "stream",
          "text": [
            "15 17 20\n",
            "20 15 17\n"
          ],
          "name": "stdout"
        }
      ]
    },
    {
      "cell_type": "markdown",
      "metadata": {
        "id": "p1HRPwZ9zJBy"
      },
      "source": [
        "# Ejercicio 2\n",
        "\n",
        "Escribe un código que cumpla las siguientes condiciones utilizando operadores matemáticos:\n",
        "\n",
        "Tienes una variable \n",
        "\n",
        "```\n",
        "mágica = 12345679\n",
        "```\n",
        "Solicita un número entero del 1 al 9 por pantalla con la función y almacenalo en una variable llamada número. \n",
        "```\n",
        "número = int(input(\"Introduce un número del 1 al 9 \"))\n",
        "```\n",
        "Multiplica el número por 9 y almacenalo en número.\n",
        "\n",
        "Multiplica la variable mágica por el número.\n",
        "\n",
        "Finalmente muestra el valor final de la variable mágica\n"
      ]
    },
    {
      "cell_type": "code",
      "metadata": {
        "id": "5QfETefp10hn"
      },
      "source": [
        ""
      ],
      "execution_count": null,
      "outputs": []
    },
    {
      "cell_type": "markdown",
      "metadata": {
        "id": "nwx1LUNt14F-"
      },
      "source": [
        "## Solución Ejercicio 2"
      ]
    },
    {
      "cell_type": "code",
      "metadata": {
        "colab": {
          "base_uri": "https://localhost:8080/"
        },
        "id": "3qXDAtuE2BPv",
        "outputId": "5121130e-2881-48db-f476-9038a4407b9b"
      },
      "source": [
        "mágica = 12345679\n",
        "número = int(input(\"Introduce un número del 1 al 9 \"))\n",
        "if(número > 0 and número <10):  # opcional, no es necesario\n",
        "  número *= 9\n",
        "  mágica *= número\n",
        "  print(mágica) \n",
        "else:                           # opcional, no es necesario\n",
        "  print(\"Vuelva a intentarlo\")  # opcional, no es necesario  "
      ],
      "execution_count": null,
      "outputs": [
        {
          "output_type": "stream",
          "text": [
            "Introduce un número del 1 al 9 2\n",
            "222222222\n"
          ],
          "name": "stdout"
        }
      ]
    },
    {
      "cell_type": "markdown",
      "metadata": {
        "id": "4-aciyTc6GLb"
      },
      "source": [
        "# Ejercicio 3\n",
        "Un granjero necesita preparar un listado de los animales que tiene en la granja.\n",
        "\n",
        "Tien 3 gallinas en el campo.\n",
        "\n",
        "Tiene 3 gallinas en el corral.\n",
        "\n",
        "Tiene 3 vacas\n",
        "\n",
        "Tiene 2 obejas\n",
        "\n",
        "Tiene 1 Vaca en el veterinario.\n",
        "\n",
        "Muestra por pantalla utilizando la función format(), describiendo todos los animales que tiene, un total de cada tipo de animal y un total de animales."
      ]
    },
    {
      "cell_type": "code",
      "metadata": {
        "id": "iRG8DQ7h8WIr"
      },
      "source": [
        ""
      ],
      "execution_count": null,
      "outputs": []
    },
    {
      "cell_type": "markdown",
      "metadata": {
        "id": "G9YXb-qh8YRr"
      },
      "source": [
        "##Solución Ejercicio 3"
      ]
    },
    {
      "cell_type": "code",
      "metadata": {
        "colab": {
          "base_uri": "https://localhost:8080/"
        },
        "id": "tZKXDQuf8ZxY",
        "outputId": "29b2d008-0738-4ec6-dd05-5ff0fd819ecf"
      },
      "source": [
        "gallinas = 3 + 3 #3 en el campo, 3 en el corral\n",
        "vacas = 3 + 1 #3 en la granja y una en el veterinario\n",
        "obejas = 2\n",
        "\n",
        "total = gallinas + vacas + obejas\n",
        "\n",
        "print(\"El granjero tenía {} animales, de los cuales gallinas eran {}, vacas eran {} y obejas eran {}\".format(total,gallinas,vacas,obejas ))\n"
      ],
      "execution_count": null,
      "outputs": [
        {
          "output_type": "stream",
          "text": [
            "El granjero tenia 12 animales, de los cuales gallinas eran 6, vacas eran 4 y obejas eran 2\n"
          ],
          "name": "stdout"
        }
      ]
    },
    {
      "cell_type": "markdown",
      "metadata": {
        "id": "vYLOBUSR9vFY"
      },
      "source": [
        "# Ejercicio 4 \n",
        "Escribe un programa que almacene las puntuaciones que obtenéis en 3 partidas de dominó, si alguien llega a sumar 30 ha perdido y deberá mostrar un mensaje con el nombre del jugador que ha perdido y no seguir comprobando las siguientes partidas.\n",
        "\n",
        "Sois 4 jugadores (Jug1, Jug2, Jug3, Jug4) e iniciais todos con 0 puntos, menos el Jug4 que inicia con un comodin de -3"
      ]
    },
    {
      "cell_type": "code",
      "metadata": {
        "id": "T8KKYcF7ACDI"
      },
      "source": [
        ""
      ],
      "execution_count": null,
      "outputs": []
    },
    {
      "cell_type": "markdown",
      "metadata": {
        "id": "G6iyDWJLACqa"
      },
      "source": [
        "##Solución Ejercicio 4"
      ]
    },
    {
      "cell_type": "code",
      "metadata": {
        "colab": {
          "base_uri": "https://localhost:8080/"
        },
        "id": "bXLkNZr6AD1o",
        "outputId": "ef8d19ce-9371-40c6-8a1d-53d128056f6b"
      },
      "source": [
        "NombreJug1 = input(\"Escribe el nombre del primer jugador: \")\n",
        "NombreJug2 = input(\"Escribe el nombre del segundo jugador: \")\n",
        "NombreJug3 = input(\"Escribe el nombre del tercer jugador: \")\n",
        "NombreJug4 = input(\"Escribe el nombre del cuarto jugador: \")\n",
        "dic_contador = [0,0,0,-3]\n",
        "#Partida 1\n",
        "dic_contador[0] += int(input(\"Introduce los puntos que ha perdido el Jug1 {} \".format(NombreJug1)))\n",
        "dic_contador[1] += int(input(\"Introduce los puntos que ha perdido el Jug1 {} \".format(NombreJug2)))\n",
        "dic_contador[2] += int(input(\"Introduce los puntos que ha perdido el Jug1 {} \".format(NombreJug3)))\n",
        "dic_contador[3] += int(input(\"Introduce los puntos que ha perdido el Jug1 {} \".format(NombreJug4)))\n",
        "if(dic_contador[0] >= 30):\n",
        "    print(\"El jugador 1 con nombre {} ha perdido con {} puntos\".format(NombreJug1,dic_contador[0]))\n",
        "if(dic_contador[1] >= 30):\n",
        "    print(\"El jugador 2 con nombre {} ha perdido con {} puntos\".format(NombreJug2,dic_contador[1]))\n",
        "if(dic_contador[2] >= 30):\n",
        "    print(\"El jugador 3 con nombre {} ha perdido con {} puntos\".format(NombreJug3,dic_contador[2]))\n",
        "if(dic_contador[3] >= 30):\n",
        "    print(\"El jugador 4 con nombre {} ha perdido con {} puntos\".format(NombreJug4,dic_contador[3]))\n",
        "print(dic_contador)\n",
        "\n",
        "if(dic_contador[0]<30 and dic_contador[1]<30 and dic_contador[2]<30 and dic_contador[3]<30):\n",
        "    #Partida 2\n",
        "    print(\"Partida 2\")\n",
        "    dic_contador[0] += int(input(\"Introduce los puntos que ha perdido el Jug1 {} \".format(NombreJug1)))\n",
        "    dic_contador[1] += int(input(\"Introduce los puntos que ha perdido el Jug1 {} \".format(NombreJug2)))\n",
        "    dic_contador[2] += int(input(\"Introduce los puntos que ha perdido el Jug1 {} \".format(NombreJug3)))\n",
        "    dic_contador[3] += int(input(\"Introduce los puntos que ha perdido el Jug1 {} \".format(NombreJug4)))\n",
        "    if(dic_contador[0] >= 30):\n",
        "        print(\"El jugador 1 con nombre {} ha perdido con {} puntos\".format(NombreJug1,dic_contador[0]))\n",
        "    if(dic_contador[1] >= 30):\n",
        "        print(\"El jugador 2 con nombre {} ha perdido con {} puntos\".format(NombreJug2,dic_contador[1]))\n",
        "    if(dic_contador[2] >= 30):\n",
        "        print(\"El jugador 3 con nombre {} ha perdido con {} puntos\".format(NombreJug3,dic_contador[2]))\n",
        "    if(dic_contador[3] >= 30):\n",
        "        print(\"El jugador 4 con nombre {} ha perdido con {} puntos\".format(NombreJug4,dic_contador[3]))\n",
        "    print(dic_contador)\n",
        "\n",
        "    if(dic_contador[0]<30 and dic_contador[1]<30 and dic_contador[2]<30 and dic_contador[3]<30):\n",
        "        #Partida 3\n",
        "        print(\"Partida 3\")\n",
        "        dic_contador[0] += int(input(\"Introduce los puntos que ha perdido el Jug1 {} \".format(NombreJug1)))\n",
        "        dic_contador[1] += int(input(\"Introduce los puntos que ha perdido el Jug1 {} \".format(NombreJug2)))\n",
        "        dic_contador[2] += int(input(\"Introduce los puntos que ha perdido el Jug1 {} \".format(NombreJug3)))\n",
        "        dic_contador[3] += int(input(\"Introduce los puntos que ha perdido el Jug1 {} \".format(NombreJug4)))\n",
        "        if(dic_contador[0] >= 30):\n",
        "            print(\"El jugador 1 con nombre {} ha perdido con {} puntos\".format(NombreJug1,dic_contador[0]))\n",
        "        if(dic_contador[1] >= 30):\n",
        "            print(\"El jugador 2 con nombre {} ha perdido con {} puntos\".format(NombreJug2,dic_contador[1]))\n",
        "        if(dic_contador[2] >= 30):\n",
        "            print(\"El jugador 3 con nombre {} ha perdido con {} puntos\".format(NombreJug3,dic_contador[2]))\n",
        "        if(dic_contador[3] >= 30):\n",
        "            print(\"El jugador 4 con nombre {} ha perdido con {} puntos\".format(NombreJug4,dic_contador[3]))"
      ],
      "execution_count": null,
      "outputs": [
        {
          "output_type": "stream",
          "text": [
            "Escribe el nombre del primer jugador: Josep\n",
            "Escribe el nombre del segundo jugador: Claudio\n",
            "Escribe el nombre del tercer jugador: Roberto\n",
            "Escribe el nombre del cuarto jugador: Ramon\n",
            "Introduce los puntos que ha perdido el Jug1 Josep 20\n",
            "Introduce los puntos que ha perdido el Jug1 Claudio 20\n",
            "Introduce los puntos que ha perdido el Jug1 Roberto 20\n",
            "Introduce los puntos que ha perdido el Jug1 Ramon 1\n",
            "[20, 20, 20, 1]\n",
            "Partida 2\n",
            "Introduce los puntos que ha perdido el Jug1 Josep 5\n",
            "Introduce los puntos que ha perdido el Jug1 Claudio 5\n",
            "Introduce los puntos que ha perdido el Jug1 Roberto 5\n",
            "Introduce los puntos que ha perdido el Jug1 Ramon 5\n",
            "[25, 25, 25, 6]\n",
            "Partida 3\n",
            "Introduce los puntos que ha perdido el Jug1 Josep 1\n",
            "Introduce los puntos que ha perdido el Jug1 Claudio 2\n",
            "Introduce los puntos que ha perdido el Jug1 Roberto 5\n",
            "Introduce los puntos que ha perdido el Jug1 Ramon 1\n",
            "El jugador 3 con nombre Roberto ha perdido con 30 puntos\n"
          ],
          "name": "stdout"
        }
      ]
    }
  ]
}